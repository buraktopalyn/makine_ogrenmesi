{
 "cells": [
  {
   "cell_type": "code",
   "execution_count": 147,
   "id": "224df73f-e9c4-41ee-b1fd-bbb648d7f22d",
   "metadata": {},
   "outputs": [],
   "source": [
    "import pandas as pd\n",
    "import seaborn as sns\n",
    "import numpy as np\n",
    "from sklearn.preprocessing import LabelEncoder\n",
    "from sklearn.linear_model import LinearRegression\n",
    "from sklearn.model_selection import train_test_split, cross_val_score\n",
    "from sklearn.metrics import mean_squared_error\n",
    "import warnings\n",
    "warnings.filterwarnings(\"ignore\")"
   ]
  },
  {
   "cell_type": "markdown",
   "id": "d387ff82-d950-47ec-a363-a6e5d827a748",
   "metadata": {},
   "source": [
    "Bir masadaki kişi sayısı, ödenen ücret, masadaki kişilerin sigara içme durumu, öğle veya akşam yemeği olma durumlarına bakarak yemek sonunda verilen bahşişi tahmin etmeye çalışacağız.\n",
    "\n",
    "total_bill: Ödenen ücret | \n",
    "tip: Bahşiş | \n",
    "sex: Cinsiyet | \n",
    "smoker: Sigara içme durumu | \n",
    "day: Günler | \n",
    "time: Öğle Yemeği, Akşam Yemeği | \n",
    "size: Masadaki kişi sayısı"
   ]
  },
  {
   "cell_type": "code",
   "execution_count": 113,
   "id": "fcc7ce8c-a621-46b9-9b7b-1676f2446101",
   "metadata": {},
   "outputs": [
    {
     "data": {
      "text/html": [
       "<div>\n",
       "<style scoped>\n",
       "    .dataframe tbody tr th:only-of-type {\n",
       "        vertical-align: middle;\n",
       "    }\n",
       "\n",
       "    .dataframe tbody tr th {\n",
       "        vertical-align: top;\n",
       "    }\n",
       "\n",
       "    .dataframe thead th {\n",
       "        text-align: right;\n",
       "    }\n",
       "</style>\n",
       "<table border=\"1\" class=\"dataframe\">\n",
       "  <thead>\n",
       "    <tr style=\"text-align: right;\">\n",
       "      <th></th>\n",
       "      <th>total_bill</th>\n",
       "      <th>tip</th>\n",
       "      <th>sex</th>\n",
       "      <th>smoker</th>\n",
       "      <th>day</th>\n",
       "      <th>time</th>\n",
       "      <th>size</th>\n",
       "    </tr>\n",
       "  </thead>\n",
       "  <tbody>\n",
       "    <tr>\n",
       "      <th>0</th>\n",
       "      <td>16.99</td>\n",
       "      <td>1.01</td>\n",
       "      <td>Female</td>\n",
       "      <td>No</td>\n",
       "      <td>Sun</td>\n",
       "      <td>Dinner</td>\n",
       "      <td>2</td>\n",
       "    </tr>\n",
       "    <tr>\n",
       "      <th>1</th>\n",
       "      <td>10.34</td>\n",
       "      <td>1.66</td>\n",
       "      <td>Male</td>\n",
       "      <td>No</td>\n",
       "      <td>Sun</td>\n",
       "      <td>Dinner</td>\n",
       "      <td>3</td>\n",
       "    </tr>\n",
       "    <tr>\n",
       "      <th>2</th>\n",
       "      <td>21.01</td>\n",
       "      <td>3.50</td>\n",
       "      <td>Male</td>\n",
       "      <td>No</td>\n",
       "      <td>Sun</td>\n",
       "      <td>Dinner</td>\n",
       "      <td>3</td>\n",
       "    </tr>\n",
       "    <tr>\n",
       "      <th>3</th>\n",
       "      <td>23.68</td>\n",
       "      <td>3.31</td>\n",
       "      <td>Male</td>\n",
       "      <td>No</td>\n",
       "      <td>Sun</td>\n",
       "      <td>Dinner</td>\n",
       "      <td>2</td>\n",
       "    </tr>\n",
       "    <tr>\n",
       "      <th>4</th>\n",
       "      <td>24.59</td>\n",
       "      <td>3.61</td>\n",
       "      <td>Female</td>\n",
       "      <td>No</td>\n",
       "      <td>Sun</td>\n",
       "      <td>Dinner</td>\n",
       "      <td>4</td>\n",
       "    </tr>\n",
       "  </tbody>\n",
       "</table>\n",
       "</div>"
      ],
      "text/plain": [
       "   total_bill   tip     sex smoker  day    time  size\n",
       "0       16.99  1.01  Female     No  Sun  Dinner     2\n",
       "1       10.34  1.66    Male     No  Sun  Dinner     3\n",
       "2       21.01  3.50    Male     No  Sun  Dinner     3\n",
       "3       23.68  3.31    Male     No  Sun  Dinner     2\n",
       "4       24.59  3.61  Female     No  Sun  Dinner     4"
      ]
     },
     "execution_count": 113,
     "metadata": {},
     "output_type": "execute_result"
    }
   ],
   "source": [
    "df = sns.load_dataset(\"tips\")\n",
    "df.head()"
   ]
  },
  {
   "cell_type": "code",
   "execution_count": 114,
   "id": "2e5e4d81-cc68-4e07-a810-d31dc98e3916",
   "metadata": {},
   "outputs": [],
   "source": [
    "le = LabelEncoder() # kategorik değişkenleri sayısal değişkenlere dönüştürme\n",
    "df[\"smoker_le\"] = le.fit_transform(df[\"smoker\"])\n",
    "df[\"time_le\"] = le.fit_transform(df[\"time\"])\n",
    "df[\"sex_le\"] = le.fit_transform(df[\"sex\"])"
   ]
  },
  {
   "cell_type": "code",
   "execution_count": 115,
   "id": "8dfd95a0-3409-44e3-a32a-e37e24a8ae66",
   "metadata": {},
   "outputs": [
    {
     "name": "stdout",
     "output_type": "stream",
     "text": [
      "<class 'pandas.core.frame.DataFrame'>\n",
      "RangeIndex: 244 entries, 0 to 243\n",
      "Data columns (total 10 columns):\n",
      " #   Column      Non-Null Count  Dtype   \n",
      "---  ------      --------------  -----   \n",
      " 0   total_bill  244 non-null    float64 \n",
      " 1   tip         244 non-null    float64 \n",
      " 2   sex         244 non-null    category\n",
      " 3   smoker      244 non-null    category\n",
      " 4   day         244 non-null    category\n",
      " 5   time        244 non-null    category\n",
      " 6   size        244 non-null    int64   \n",
      " 7   smoker_le   244 non-null    int32   \n",
      " 8   time_le     244 non-null    int32   \n",
      " 9   sex_le      244 non-null    int32   \n",
      "dtypes: category(4), float64(2), int32(3), int64(1)\n",
      "memory usage: 10.2 KB\n"
     ]
    }
   ],
   "source": [
    "df.info()"
   ]
  },
  {
   "cell_type": "code",
   "execution_count": 116,
   "id": "e93f0cce-45c3-45e0-8ea4-f8353026d43a",
   "metadata": {},
   "outputs": [],
   "source": [
    "df = df.select_dtypes(include=[\"float64\", \"int64\", \"int32\"])"
   ]
  },
  {
   "cell_type": "code",
   "execution_count": 117,
   "id": "70add8d6-9dc4-4d77-992d-83b2327ece46",
   "metadata": {},
   "outputs": [
    {
     "data": {
      "text/plain": [
       "((244, 5), (244, 1))"
      ]
     },
     "execution_count": 117,
     "metadata": {},
     "output_type": "execute_result"
    }
   ],
   "source": [
    "X = df.drop(\"tip\", axis=1)\n",
    "y = df[[\"tip\"]]\n",
    "X.shape, y.shape"
   ]
  },
  {
   "cell_type": "code",
   "execution_count": 118,
   "id": "94fe7028-d0d2-445c-91d3-be4975bdc967",
   "metadata": {},
   "outputs": [],
   "source": [
    "X_train, X_test, y_train, y_test = train_test_split(X, y, test_size=.25, random_state=24)"
   ]
  },
  {
   "cell_type": "code",
   "execution_count": 119,
   "id": "bd26573e-2dd9-476b-b5f8-c64b98505c3c",
   "metadata": {},
   "outputs": [],
   "source": [
    "from statsmodels.api import OLS"
   ]
  },
  {
   "cell_type": "code",
   "execution_count": 120,
   "id": "b5474fc8-cc67-4f92-a520-49720b0216ae",
   "metadata": {},
   "outputs": [],
   "source": [
    "lm = OLS(y, X)"
   ]
  },
  {
   "cell_type": "code",
   "execution_count": 121,
   "id": "a2e0cfb5-9c93-47bd-b878-d074dba99a3e",
   "metadata": {},
   "outputs": [],
   "source": [
    "model = lm.fit()"
   ]
  },
  {
   "cell_type": "code",
   "execution_count": 122,
   "id": "759f53f7-d3c4-44c1-9c08-8c99821fe230",
   "metadata": {
    "scrolled": true
   },
   "outputs": [
    {
     "data": {
      "text/html": [
       "<table class=\"simpletable\">\n",
       "<caption>OLS Regression Results</caption>\n",
       "<tr>\n",
       "  <th>Dep. Variable:</th>           <td>tip</td>       <th>  R-squared (uncentered):</th>      <td>   0.903</td> \n",
       "</tr>\n",
       "<tr>\n",
       "  <th>Model:</th>                   <td>OLS</td>       <th>  Adj. R-squared (uncentered):</th> <td>   0.901</td> \n",
       "</tr>\n",
       "<tr>\n",
       "  <th>Method:</th>             <td>Least Squares</td>  <th>  F-statistic:       </th>          <td>   446.2</td> \n",
       "</tr>\n",
       "<tr>\n",
       "  <th>Date:</th>             <td>Thu, 23 Nov 2023</td> <th>  Prob (F-statistic):</th>          <td>5.28e-119</td>\n",
       "</tr>\n",
       "<tr>\n",
       "  <th>Time:</th>                 <td>13:08:22</td>     <th>  Log-Likelihood:    </th>          <td> -352.67</td> \n",
       "</tr>\n",
       "<tr>\n",
       "  <th>No. Observations:</th>      <td>   244</td>      <th>  AIC:               </th>          <td>   715.3</td> \n",
       "</tr>\n",
       "<tr>\n",
       "  <th>Df Residuals:</th>          <td>   239</td>      <th>  BIC:               </th>          <td>   732.8</td> \n",
       "</tr>\n",
       "<tr>\n",
       "  <th>Df Model:</th>              <td>     5</td>      <th>                     </th>              <td> </td>    \n",
       "</tr>\n",
       "<tr>\n",
       "  <th>Covariance Type:</th>      <td>nonrobust</td>    <th>                     </th>              <td> </td>    \n",
       "</tr>\n",
       "</table>\n",
       "<table class=\"simpletable\">\n",
       "<tr>\n",
       "       <td></td>         <th>coef</th>     <th>std err</th>      <th>t</th>      <th>P>|t|</th>  <th>[0.025</th>    <th>0.975]</th>  \n",
       "</tr>\n",
       "<tr>\n",
       "  <th>total_bill</th> <td>    0.0987</td> <td>    0.010</td> <td>   10.328</td> <td> 0.000</td> <td>    0.080</td> <td>    0.118</td>\n",
       "</tr>\n",
       "<tr>\n",
       "  <th>size</th>       <td>    0.3278</td> <td>    0.076</td> <td>    4.327</td> <td> 0.000</td> <td>    0.179</td> <td>    0.477</td>\n",
       "</tr>\n",
       "<tr>\n",
       "  <th>smoker_le</th>  <td>    0.0477</td> <td>    0.135</td> <td>    0.355</td> <td> 0.723</td> <td>   -0.217</td> <td>    0.313</td>\n",
       "</tr>\n",
       "<tr>\n",
       "  <th>time_le</th>    <td>    0.1652</td> <td>    0.143</td> <td>    1.155</td> <td> 0.249</td> <td>   -0.117</td> <td>    0.447</td>\n",
       "</tr>\n",
       "<tr>\n",
       "  <th>sex_le</th>     <td>    0.1268</td> <td>    0.133</td> <td>    0.951</td> <td> 0.343</td> <td>   -0.136</td> <td>    0.389</td>\n",
       "</tr>\n",
       "</table>\n",
       "<table class=\"simpletable\">\n",
       "<tr>\n",
       "  <th>Omnibus:</th>       <td>13.777</td> <th>  Durbin-Watson:     </th> <td>   2.077</td>\n",
       "</tr>\n",
       "<tr>\n",
       "  <th>Prob(Omnibus):</th> <td> 0.001</td> <th>  Jarque-Bera (JB):  </th> <td>  26.785</td>\n",
       "</tr>\n",
       "<tr>\n",
       "  <th>Skew:</th>          <td> 0.260</td> <th>  Prob(JB):          </th> <td>1.53e-06</td>\n",
       "</tr>\n",
       "<tr>\n",
       "  <th>Kurtosis:</th>      <td> 4.538</td> <th>  Cond. No.          </th> <td>    49.7</td>\n",
       "</tr>\n",
       "</table><br/><br/>Notes:<br/>[1] R² is computed without centering (uncentered) since the model does not contain a constant.<br/>[2] Standard Errors assume that the covariance matrix of the errors is correctly specified."
      ],
      "text/latex": [
       "\\begin{center}\n",
       "\\begin{tabular}{lclc}\n",
       "\\toprule\n",
       "\\textbf{Dep. Variable:}    &       tip        & \\textbf{  R-squared (uncentered):}      &     0.903   \\\\\n",
       "\\textbf{Model:}            &       OLS        & \\textbf{  Adj. R-squared (uncentered):} &     0.901   \\\\\n",
       "\\textbf{Method:}           &  Least Squares   & \\textbf{  F-statistic:       }          &     446.2   \\\\\n",
       "\\textbf{Date:}             & Thu, 23 Nov 2023 & \\textbf{  Prob (F-statistic):}          & 5.28e-119   \\\\\n",
       "\\textbf{Time:}             &     13:08:22     & \\textbf{  Log-Likelihood:    }          &   -352.67   \\\\\n",
       "\\textbf{No. Observations:} &         244      & \\textbf{  AIC:               }          &     715.3   \\\\\n",
       "\\textbf{Df Residuals:}     &         239      & \\textbf{  BIC:               }          &     732.8   \\\\\n",
       "\\textbf{Df Model:}         &           5      & \\textbf{                     }          &             \\\\\n",
       "\\textbf{Covariance Type:}  &    nonrobust     & \\textbf{                     }          &             \\\\\n",
       "\\bottomrule\n",
       "\\end{tabular}\n",
       "\\begin{tabular}{lcccccc}\n",
       "                     & \\textbf{coef} & \\textbf{std err} & \\textbf{t} & \\textbf{P$> |$t$|$} & \\textbf{[0.025} & \\textbf{0.975]}  \\\\\n",
       "\\midrule\n",
       "\\textbf{total\\_bill} &       0.0987  &        0.010     &    10.328  &         0.000        &        0.080    &        0.118     \\\\\n",
       "\\textbf{size}        &       0.3278  &        0.076     &     4.327  &         0.000        &        0.179    &        0.477     \\\\\n",
       "\\textbf{smoker\\_le}  &       0.0477  &        0.135     &     0.355  &         0.723        &       -0.217    &        0.313     \\\\\n",
       "\\textbf{time\\_le}    &       0.1652  &        0.143     &     1.155  &         0.249        &       -0.117    &        0.447     \\\\\n",
       "\\textbf{sex\\_le}     &       0.1268  &        0.133     &     0.951  &         0.343        &       -0.136    &        0.389     \\\\\n",
       "\\bottomrule\n",
       "\\end{tabular}\n",
       "\\begin{tabular}{lclc}\n",
       "\\textbf{Omnibus:}       & 13.777 & \\textbf{  Durbin-Watson:     } &    2.077  \\\\\n",
       "\\textbf{Prob(Omnibus):} &  0.001 & \\textbf{  Jarque-Bera (JB):  } &   26.785  \\\\\n",
       "\\textbf{Skew:}          &  0.260 & \\textbf{  Prob(JB):          } & 1.53e-06  \\\\\n",
       "\\textbf{Kurtosis:}      &  4.538 & \\textbf{  Cond. No.          } &     49.7  \\\\\n",
       "\\bottomrule\n",
       "\\end{tabular}\n",
       "%\\caption{OLS Regression Results}\n",
       "\\end{center}\n",
       "\n",
       "Notes: \\newline\n",
       " [1] R² is computed without centering (uncentered) since the model does not contain a constant. \\newline\n",
       " [2] Standard Errors assume that the covariance matrix of the errors is correctly specified."
      ],
      "text/plain": [
       "<class 'statsmodels.iolib.summary.Summary'>\n",
       "\"\"\"\n",
       "                                 OLS Regression Results                                \n",
       "=======================================================================================\n",
       "Dep. Variable:                    tip   R-squared (uncentered):                   0.903\n",
       "Model:                            OLS   Adj. R-squared (uncentered):              0.901\n",
       "Method:                 Least Squares   F-statistic:                              446.2\n",
       "Date:                Thu, 23 Nov 2023   Prob (F-statistic):                   5.28e-119\n",
       "Time:                        13:08:22   Log-Likelihood:                         -352.67\n",
       "No. Observations:                 244   AIC:                                      715.3\n",
       "Df Residuals:                     239   BIC:                                      732.8\n",
       "Df Model:                           5                                                  \n",
       "Covariance Type:            nonrobust                                                  \n",
       "==============================================================================\n",
       "                 coef    std err          t      P>|t|      [0.025      0.975]\n",
       "------------------------------------------------------------------------------\n",
       "total_bill     0.0987      0.010     10.328      0.000       0.080       0.118\n",
       "size           0.3278      0.076      4.327      0.000       0.179       0.477\n",
       "smoker_le      0.0477      0.135      0.355      0.723      -0.217       0.313\n",
       "time_le        0.1652      0.143      1.155      0.249      -0.117       0.447\n",
       "sex_le         0.1268      0.133      0.951      0.343      -0.136       0.389\n",
       "==============================================================================\n",
       "Omnibus:                       13.777   Durbin-Watson:                   2.077\n",
       "Prob(Omnibus):                  0.001   Jarque-Bera (JB):               26.785\n",
       "Skew:                           0.260   Prob(JB):                     1.53e-06\n",
       "Kurtosis:                       4.538   Cond. No.                         49.7\n",
       "==============================================================================\n",
       "\n",
       "Notes:\n",
       "[1] R² is computed without centering (uncentered) since the model does not contain a constant.\n",
       "[2] Standard Errors assume that the covariance matrix of the errors is correctly specified.\n",
       "\"\"\""
      ]
     },
     "execution_count": 122,
     "metadata": {},
     "output_type": "execute_result"
    }
   ],
   "source": [
    "model.summary() # çoklu doğrusal model ile ilgili istatiksel açıklamalar"
   ]
  },
  {
   "cell_type": "code",
   "execution_count": 81,
   "id": "af94144c-c2a3-4830-9bb1-9b2fa4e366f9",
   "metadata": {},
   "outputs": [],
   "source": [
    "lr = LinearRegression()"
   ]
  },
  {
   "cell_type": "code",
   "execution_count": 123,
   "id": "594a2b60-e060-4b2c-9e72-b1806c486afc",
   "metadata": {},
   "outputs": [],
   "source": [
    "model = lr.fit(X_train, y_train) # model eğitimi"
   ]
  },
  {
   "cell_type": "code",
   "execution_count": 124,
   "id": "b9387998-bd23-4c6f-b9ce-4f6625dd86e9",
   "metadata": {},
   "outputs": [
    {
     "data": {
      "text/plain": [
       "array([0.48670116])"
      ]
     },
     "execution_count": 124,
     "metadata": {},
     "output_type": "execute_result"
    }
   ],
   "source": [
    "model.intercept_ # b0 sabiti"
   ]
  },
  {
   "cell_type": "code",
   "execution_count": 125,
   "id": "c8d35884-c9a9-42e1-a704-e19c830b5784",
   "metadata": {},
   "outputs": [
    {
     "data": {
      "text/plain": [
       "array([[ 0.10565954,  0.20586485, -0.19035164,  0.04839082,  0.02993823]])"
      ]
     },
     "execution_count": 125,
     "metadata": {},
     "output_type": "execute_result"
    }
   ],
   "source": [
    "model.coef_ # b1, b2, b3, b4, b5 katsayıları"
   ]
  },
  {
   "cell_type": "code",
   "execution_count": 126,
   "id": "d4281ac8-c9a4-484e-a3be-cc4ecc922ca7",
   "metadata": {},
   "outputs": [],
   "source": [
    "masa1 = np.array([[30, 3, 0, 1, 1]])  # x1=total_bill, x2=size, x3=smoker_le, x4=time_le, x5=sex_le "
   ]
  },
  {
   "cell_type": "code",
   "execution_count": 128,
   "id": "c78c77a9-488d-450b-ba2e-11e6a20e2c9d",
   "metadata": {},
   "outputs": [
    {
     "data": {
      "text/plain": [
       "array([4.35241081])"
      ]
     },
     "execution_count": 128,
     "metadata": {},
     "output_type": "execute_result"
    }
   ],
   "source": [
    "# 30tl ücret ödeyen[30], 3 kişi gelen[3], sigara içmeyen[0], akşam yemeğinde[1], bir kadın[1] müşterinin verebileceği bahşiş miktarı\n",
    "tip1 = model.intercept_ + np.sum(model.coef_ * masa1) # y = b0 + b1*x1 + b2*x2 + b3*x3 + b4*x4 + b5*x5\n",
    "tip1 # y"
   ]
  },
  {
   "cell_type": "code",
   "execution_count": 129,
   "id": "d7f54ac8-07dd-44b9-ab6a-28eddeac4981",
   "metadata": {},
   "outputs": [
    {
     "data": {
      "text/plain": [
       "array([[4.35241081]])"
      ]
     },
     "execution_count": 129,
     "metadata": {},
     "output_type": "execute_result"
    }
   ],
   "source": [
    "model.predict(masa1) # hazır tahmin fonskiyonu ile tahmin"
   ]
  },
  {
   "cell_type": "code",
   "execution_count": 145,
   "id": "80bf8544-534e-4ad9-ac2e-842cf8110073",
   "metadata": {},
   "outputs": [],
   "source": [
    "y_tahmin = model.predict(X_test)"
   ]
  },
  {
   "cell_type": "code",
   "execution_count": 146,
   "id": "c790515d-cc2d-42a5-af0a-c4cf68a9ca30",
   "metadata": {},
   "outputs": [
    {
     "data": {
      "text/plain": [
       "1.0014122994879189"
      ]
     },
     "execution_count": 146,
     "metadata": {},
     "output_type": "execute_result"
    }
   ],
   "source": [
    "# test hatası\n",
    "mse = np.sqrt(mean_squared_error(y_test, y_tahmin))\n",
    "mse"
   ]
  },
  {
   "cell_type": "code",
   "execution_count": 154,
   "id": "f22cd7ec-cb2f-4775-8ada-028ca3ea52dc",
   "metadata": {},
   "outputs": [
    {
     "data": {
      "text/plain": [
       "1.1406242756516165"
      ]
     },
     "execution_count": 154,
     "metadata": {},
     "output_type": "execute_result"
    }
   ],
   "source": [
    "# çapraz doğrulama ile ortalama hata\n",
    "np.mean(-cross_val_score(model, X_train, y_train, cv=10, scoring=\"neg_mean_squared_error\"))"
   ]
  },
  {
   "cell_type": "code",
   "execution_count": null,
   "id": "175fe048-94ae-4a7a-99a9-13b6684df608",
   "metadata": {},
   "outputs": [],
   "source": []
  }
 ],
 "metadata": {
  "kernelspec": {
   "display_name": "Python 3 (ipykernel)",
   "language": "python",
   "name": "python3"
  },
  "language_info": {
   "codemirror_mode": {
    "name": "ipython",
    "version": 3
   },
   "file_extension": ".py",
   "mimetype": "text/x-python",
   "name": "python",
   "nbconvert_exporter": "python",
   "pygments_lexer": "ipython3",
   "version": "3.11.5"
  }
 },
 "nbformat": 4,
 "nbformat_minor": 5
}
