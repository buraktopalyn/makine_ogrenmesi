{
 "cells": [
  {
   "cell_type": "code",
   "execution_count": 85,
   "id": "77e175fb-4748-4150-9202-f3d30ba7fce0",
   "metadata": {},
   "outputs": [],
   "source": [
    "import findspark\n",
    "findspark.init(r\"C:\\spark\") # Spark'ın kurulu olduğu dizin"
   ]
  },
  {
   "cell_type": "code",
   "execution_count": 102,
   "id": "e0514d91-0862-45da-8c02-52de7bdee9ba",
   "metadata": {},
   "outputs": [],
   "source": [
    "import matplotlib.pyplot as plt\n",
    "import seaborn as sns\n",
    "import pandas as pd\n",
    "from pyspark import SparkContext\n",
    "from pyspark.sql import SparkSession\n",
    "from pyspark.conf import SparkConf\n",
    "from pyspark.ml.feature import VectorAssembler\n",
    "from pyspark.ml.classification import GBTClassifier\n",
    "from pyspark.ml.evaluation import BinaryClassificationEvaluator\n",
    "from pyspark.ml.tuning import ParamGridBuilder, CrossValidator"
   ]
  },
  {
   "cell_type": "code",
   "execution_count": 3,
   "id": "6d3f5047-194e-4b34-81b6-c873421de829",
   "metadata": {},
   "outputs": [],
   "source": [
    "# Spark Uygulamasını Başlatma"
   ]
  },
  {
   "cell_type": "code",
   "execution_count": 4,
   "id": "c6267ddd-7bef-4708-ba78-cb04d20418c2",
   "metadata": {},
   "outputs": [],
   "source": [
    "spark = SparkSession.builder.master(\"local\").appName(\"spark_ilk\").getOrCreate()"
   ]
  },
  {
   "cell_type": "code",
   "execution_count": 5,
   "id": "e4d88336-1bbd-4c68-ab27-90b4ba385e80",
   "metadata": {},
   "outputs": [],
   "source": [
    "sc = spark.sparkContext"
   ]
  },
  {
   "cell_type": "code",
   "execution_count": 6,
   "id": "c2b15e4e-0114-45a3-b0a0-f8edbd65d386",
   "metadata": {},
   "outputs": [
    {
     "data": {
      "text/html": [
       "\n",
       "        <div>\n",
       "            <p><b>SparkContext</b></p>\n",
       "\n",
       "            <p><a href=\"http://burak:4040\">Spark UI</a></p>\n",
       "\n",
       "            <dl>\n",
       "              <dt>Version</dt>\n",
       "                <dd><code>v3.5.0</code></dd>\n",
       "              <dt>Master</dt>\n",
       "                <dd><code>local</code></dd>\n",
       "              <dt>AppName</dt>\n",
       "                <dd><code>spark_ilk</code></dd>\n",
       "            </dl>\n",
       "        </div>\n",
       "        "
      ],
      "text/plain": [
       "<SparkContext master=local appName=spark_ilk>"
      ]
     },
     "execution_count": 6,
     "metadata": {},
     "output_type": "execute_result"
    }
   ],
   "source": [
    "sc"
   ]
  },
  {
   "cell_type": "code",
   "execution_count": 7,
   "id": "8717d25b-a317-47af-b66f-284edf1f4b34",
   "metadata": {},
   "outputs": [],
   "source": [
    "# sc.stop() # spark bağlantısını kapatma"
   ]
  },
  {
   "cell_type": "code",
   "execution_count": 8,
   "id": "fb950011-a8ee-4e61-be47-72498252d9da",
   "metadata": {},
   "outputs": [],
   "source": [
    "spark_df = spark.read.csv(\"churn.csv\", header=True, inferSchema=True)"
   ]
  },
  {
   "cell_type": "code",
   "execution_count": 9,
   "id": "0ab8fbe2-742b-4d44-8d60-830e7e2936e7",
   "metadata": {},
   "outputs": [
    {
     "name": "stdout",
     "output_type": "stream",
     "text": [
      "root\n",
      " |-- _c0: integer (nullable = true)\n",
      " |-- Names: string (nullable = true)\n",
      " |-- Age: double (nullable = true)\n",
      " |-- Total_Purchase: double (nullable = true)\n",
      " |-- Account_Manager: integer (nullable = true)\n",
      " |-- Years: double (nullable = true)\n",
      " |-- Num_Sites: double (nullable = true)\n",
      " |-- Churn: integer (nullable = true)\n",
      "\n"
     ]
    }
   ],
   "source": [
    "spark_df.printSchema()"
   ]
  },
  {
   "cell_type": "code",
   "execution_count": 10,
   "id": "865a0866-214d-46e6-9305-4dd6b224e9d2",
   "metadata": {},
   "outputs": [
    {
     "data": {
      "text/plain": [
       "[Row(_c0=0, Names='Cameron Williams', Age=42.0, Total_Purchase=11066.8, Account_Manager=0, Years=7.22, Num_Sites=8.0, Churn=1),\n",
       " Row(_c0=1, Names='Kevin Mueller', Age=41.0, Total_Purchase=11916.22, Account_Manager=0, Years=6.5, Num_Sites=11.0, Churn=1),\n",
       " Row(_c0=2, Names='Eric Lozano', Age=38.0, Total_Purchase=12884.75, Account_Manager=0, Years=6.67, Num_Sites=12.0, Churn=1)]"
      ]
     },
     "execution_count": 10,
     "metadata": {},
     "output_type": "execute_result"
    }
   ],
   "source": [
    "spark_df.head(3)"
   ]
  },
  {
   "cell_type": "code",
   "execution_count": 11,
   "id": "54055b28-bb5b-4690-8465-3fdc19d9a1f1",
   "metadata": {},
   "outputs": [
    {
     "data": {
      "text/plain": [
       "[('_c0', 'int'),\n",
       " ('Names', 'string'),\n",
       " ('Age', 'double'),\n",
       " ('Total_Purchase', 'double'),\n",
       " ('Account_Manager', 'int'),\n",
       " ('Years', 'double'),\n",
       " ('Num_Sites', 'double'),\n",
       " ('Churn', 'int')]"
      ]
     },
     "execution_count": 11,
     "metadata": {},
     "output_type": "execute_result"
    }
   ],
   "source": [
    "spark_df.dtypes"
   ]
  },
  {
   "cell_type": "code",
   "execution_count": 12,
   "id": "e032fac4-24cf-4743-924c-21f8c4a028fc",
   "metadata": {},
   "outputs": [
    {
     "name": "stdout",
     "output_type": "stream",
     "text": [
      "+---+----------------+----+--------------+---------------+-----+---------+-----+\n",
      "|_c0|           Names| Age|Total_Purchase|Account_Manager|Years|Num_Sites|Churn|\n",
      "+---+----------------+----+--------------+---------------+-----+---------+-----+\n",
      "|  0|Cameron Williams|42.0|       11066.8|              0| 7.22|      8.0|    1|\n",
      "|  1|   Kevin Mueller|41.0|      11916.22|              0|  6.5|     11.0|    1|\n",
      "|  2|     Eric Lozano|38.0|      12884.75|              0| 6.67|     12.0|    1|\n",
      "+---+----------------+----+--------------+---------------+-----+---------+-----+\n",
      "only showing top 3 rows\n",
      "\n"
     ]
    }
   ],
   "source": [
    "spark_df.show(3, truncate=True)"
   ]
  },
  {
   "cell_type": "code",
   "execution_count": 13,
   "id": "39698880-3047-42d3-88b0-28765c727d76",
   "metadata": {},
   "outputs": [
    {
     "data": {
      "text/plain": [
       "900"
      ]
     },
     "execution_count": 13,
     "metadata": {},
     "output_type": "execute_result"
    }
   ],
   "source": [
    "spark_df.count()"
   ]
  },
  {
   "cell_type": "code",
   "execution_count": 14,
   "id": "029cd121-6ae2-4450-94d7-668fb92a9779",
   "metadata": {},
   "outputs": [
    {
     "name": "stdout",
     "output_type": "stream",
     "text": [
      "+-------+-----------------+\n",
      "|summary|   Total_Purchase|\n",
      "+-------+-----------------+\n",
      "|  count|              900|\n",
      "|   mean|10062.82403333334|\n",
      "| stddev|2408.644531858096|\n",
      "|    min|            100.0|\n",
      "|    max|         18026.01|\n",
      "+-------+-----------------+\n",
      "\n"
     ]
    }
   ],
   "source": [
    "spark_df.describe(\"Total_Purchase\").show()"
   ]
  },
  {
   "cell_type": "code",
   "execution_count": 15,
   "id": "0bea4ac9-39b8-445f-a1c4-8643b774d60d",
   "metadata": {},
   "outputs": [
    {
     "name": "stdout",
     "output_type": "stream",
     "text": [
      "+----+--------------+-----+\n",
      "| Age|Total_Purchase|Years|\n",
      "+----+--------------+-----+\n",
      "|42.0|       11066.8| 7.22|\n",
      "|41.0|      11916.22|  6.5|\n",
      "|38.0|      12884.75| 6.67|\n",
      "|42.0|       8010.76| 6.71|\n",
      "|37.0|       9191.58| 5.56|\n",
      "|48.0|      10356.02| 5.12|\n",
      "|44.0|      11331.58| 5.23|\n",
      "|32.0|       9885.12| 6.92|\n",
      "+----+--------------+-----+\n",
      "only showing top 8 rows\n",
      "\n"
     ]
    }
   ],
   "source": [
    "spark_df.select(\"Age\",\"Total_Purchase\",\"Years\").show(8)"
   ]
  },
  {
   "cell_type": "code",
   "execution_count": 16,
   "id": "0e5eda7f-1457-422c-94ff-06cf9cbd353f",
   "metadata": {},
   "outputs": [
    {
     "data": {
      "text/plain": [
       "519"
      ]
     },
     "execution_count": 16,
     "metadata": {},
     "output_type": "execute_result"
    }
   ],
   "source": [
    "spark_df.filter(spark_df.Years > 5).count()"
   ]
  },
  {
   "cell_type": "code",
   "execution_count": 17,
   "id": "f6e45a5b-653a-4249-aeaf-d0bb49ebd92c",
   "metadata": {},
   "outputs": [
    {
     "name": "stdout",
     "output_type": "stream",
     "text": [
      "+-----+-----+\n",
      "|Churn|count|\n",
      "+-----+-----+\n",
      "|    1|  150|\n",
      "|    0|  750|\n",
      "+-----+-----+\n",
      "\n"
     ]
    }
   ],
   "source": [
    "spark_df.groupby(\"Churn\").count().show()"
   ]
  },
  {
   "cell_type": "code",
   "execution_count": 18,
   "id": "b8e1b312-b637-4469-bfab-e5fd0b67a32b",
   "metadata": {},
   "outputs": [
    {
     "name": "stdout",
     "output_type": "stream",
     "text": [
      "+-----+-----------+-----------------+\n",
      "|Churn|mode(Years)|         avg(Age)|\n",
      "+-----+-----------+-----------------+\n",
      "|    1|       5.86|42.99333333333333|\n",
      "|    0|       5.89|41.58133333333333|\n",
      "+-----+-----------+-----------------+\n",
      "\n"
     ]
    }
   ],
   "source": [
    "spark_df.groupby(\"Churn\").agg({\"Age\":\"mean\", \"Years\":\"mode\"}).show()"
   ]
  },
  {
   "cell_type": "markdown",
   "id": "1f1ce9a8-2380-4cf7-8f0b-5ff83c36fc2e",
   "metadata": {},
   "source": [
    "### SQL İşlemleri "
   ]
  },
  {
   "cell_type": "code",
   "execution_count": 23,
   "id": "f2f46fea-9e71-4f4a-bc8b-0b682b8ea5b3",
   "metadata": {},
   "outputs": [],
   "source": [
    "spark_df.createOrReplaceTempView(\"tablex\")"
   ]
  },
  {
   "cell_type": "code",
   "execution_count": 24,
   "id": "2bae5ba8-1070-4046-9e73-562dfbaa6729",
   "metadata": {
    "scrolled": true
   },
   "outputs": [
    {
     "name": "stdout",
     "output_type": "stream",
     "text": [
      "+---------+\n",
      "|namespace|\n",
      "+---------+\n",
      "|  default|\n",
      "+---------+\n",
      "\n"
     ]
    }
   ],
   "source": [
    "spark.sql(\"show databases\").show()"
   ]
  },
  {
   "cell_type": "code",
   "execution_count": 25,
   "id": "47460a36-07fc-4787-af2b-32ccb89d2ef2",
   "metadata": {},
   "outputs": [
    {
     "name": "stdout",
     "output_type": "stream",
     "text": [
      "+---------+---------+-----------+\n",
      "|namespace|tableName|isTemporary|\n",
      "+---------+---------+-----------+\n",
      "|         |    table|       true|\n",
      "|         |   tablex|       true|\n",
      "+---------+---------+-----------+\n",
      "\n"
     ]
    }
   ],
   "source": [
    "spark.sql(\"show tables\").show()"
   ]
  },
  {
   "cell_type": "code",
   "execution_count": 27,
   "id": "19da0e20-eff8-4331-beca-12e341d42147",
   "metadata": {},
   "outputs": [
    {
     "name": "stdout",
     "output_type": "stream",
     "text": [
      "+----+\n",
      "| Age|\n",
      "+----+\n",
      "|42.0|\n",
      "|41.0|\n",
      "|38.0|\n",
      "|42.0|\n",
      "|37.0|\n",
      "+----+\n",
      "only showing top 5 rows\n",
      "\n"
     ]
    }
   ],
   "source": [
    "spark.sql(\"Select Age from tablex\").show(5)"
   ]
  },
  {
   "cell_type": "code",
   "execution_count": 29,
   "id": "99101f5e-93d6-4cdd-9e7d-e47dbead90af",
   "metadata": {},
   "outputs": [
    {
     "name": "stdout",
     "output_type": "stream",
     "text": [
      "+-----+-----------------+\n",
      "|Churn|        mean(Age)|\n",
      "+-----+-----------------+\n",
      "|    1|42.99333333333333|\n",
      "|    0|41.58133333333333|\n",
      "+-----+-----------------+\n",
      "\n"
     ]
    }
   ],
   "source": [
    "spark.sql(\"Select Churn, mean(Age) from tablex group by Churn\").show()"
   ]
  },
  {
   "cell_type": "code",
   "execution_count": 32,
   "id": "98562b93-bd9b-4d0b-b8f6-d8139fe52d06",
   "metadata": {},
   "outputs": [
    {
     "name": "stdout",
     "output_type": "stream",
     "text": [
      "+---+----------------+----+--------------+---------------+-----+---------+-----+\n",
      "|_c0|           Names| Age|Total_Purchase|Account_Manager|Years|Num_Sites|Churn|\n",
      "+---+----------------+----+--------------+---------------+-----+---------+-----+\n",
      "|149|    Yvette Perry|41.0|       8560.76|              1| 3.99|     12.0|    1|\n",
      "|148|     Tara Burton|49.0|      11177.08|              0| 4.44|     12.0|    1|\n",
      "|147|    Robert Russo|58.0|       9703.93|              0| 5.16|     11.0|    1|\n",
      "|146|     Anna Bryant|39.0|       8801.86|              1| 4.43|     10.0|    1|\n",
      "|145|   Randall Weber|34.0|      12983.26|              1| 6.53|     13.0|    1|\n",
      "|144|  Hailey Sanchez|41.0|      14429.41|              1| 5.51|     11.0|    1|\n",
      "|143|Steven Stevenson|52.0|       7460.05|              0| 5.39|     12.0|    1|\n",
      "|142| Heather Hickman|31.0|      11297.57|              1| 6.23|     10.0|    1|\n",
      "|141|     Alexis Hill|39.0|       6351.79|              0| 5.86|      6.0|    1|\n",
      "|140|  Jessica Horton|43.0|       6992.09|              1| 6.84|     11.0|    1|\n",
      "+---+----------------+----+--------------+---------------+-----+---------+-----+\n",
      "only showing top 10 rows\n",
      "\n"
     ]
    }
   ],
   "source": [
    "spark.sql(\"Select * from tablex where Churn = 1 ORDER BY _c0 DESC\").show(10)"
   ]
  },
  {
   "cell_type": "markdown",
   "id": "ffe0c4eb-c20c-44d8-959d-28d1198145f4",
   "metadata": {},
   "source": [
    "### Büyük Veri Görselleştirme"
   ]
  },
  {
   "cell_type": "code",
   "execution_count": 39,
   "id": "6f00a4f4-5245-4cf3-8d8e-6484c0136ee7",
   "metadata": {},
   "outputs": [],
   "source": [
    "sdf = spark_df.toPandas()"
   ]
  },
  {
   "cell_type": "code",
   "execution_count": 40,
   "id": "03c74507-fa02-44f6-8b6c-db9e4915c4eb",
   "metadata": {},
   "outputs": [
    {
     "data": {
      "text/html": [
       "<div>\n",
       "<style scoped>\n",
       "    .dataframe tbody tr th:only-of-type {\n",
       "        vertical-align: middle;\n",
       "    }\n",
       "\n",
       "    .dataframe tbody tr th {\n",
       "        vertical-align: top;\n",
       "    }\n",
       "\n",
       "    .dataframe thead th {\n",
       "        text-align: right;\n",
       "    }\n",
       "</style>\n",
       "<table border=\"1\" class=\"dataframe\">\n",
       "  <thead>\n",
       "    <tr style=\"text-align: right;\">\n",
       "      <th></th>\n",
       "      <th>_c0</th>\n",
       "      <th>Names</th>\n",
       "      <th>Age</th>\n",
       "      <th>Total_Purchase</th>\n",
       "      <th>Account_Manager</th>\n",
       "      <th>Years</th>\n",
       "      <th>Num_Sites</th>\n",
       "      <th>Churn</th>\n",
       "    </tr>\n",
       "  </thead>\n",
       "  <tbody>\n",
       "    <tr>\n",
       "      <th>0</th>\n",
       "      <td>0</td>\n",
       "      <td>Cameron Williams</td>\n",
       "      <td>42.0</td>\n",
       "      <td>11066.80</td>\n",
       "      <td>0</td>\n",
       "      <td>7.22</td>\n",
       "      <td>8.0</td>\n",
       "      <td>1</td>\n",
       "    </tr>\n",
       "    <tr>\n",
       "      <th>1</th>\n",
       "      <td>1</td>\n",
       "      <td>Kevin Mueller</td>\n",
       "      <td>41.0</td>\n",
       "      <td>11916.22</td>\n",
       "      <td>0</td>\n",
       "      <td>6.50</td>\n",
       "      <td>11.0</td>\n",
       "      <td>1</td>\n",
       "    </tr>\n",
       "    <tr>\n",
       "      <th>2</th>\n",
       "      <td>2</td>\n",
       "      <td>Eric Lozano</td>\n",
       "      <td>38.0</td>\n",
       "      <td>12884.75</td>\n",
       "      <td>0</td>\n",
       "      <td>6.67</td>\n",
       "      <td>12.0</td>\n",
       "      <td>1</td>\n",
       "    </tr>\n",
       "    <tr>\n",
       "      <th>3</th>\n",
       "      <td>3</td>\n",
       "      <td>Phillip White</td>\n",
       "      <td>42.0</td>\n",
       "      <td>8010.76</td>\n",
       "      <td>0</td>\n",
       "      <td>6.71</td>\n",
       "      <td>10.0</td>\n",
       "      <td>1</td>\n",
       "    </tr>\n",
       "    <tr>\n",
       "      <th>4</th>\n",
       "      <td>4</td>\n",
       "      <td>Cynthia Norton</td>\n",
       "      <td>37.0</td>\n",
       "      <td>9191.58</td>\n",
       "      <td>0</td>\n",
       "      <td>5.56</td>\n",
       "      <td>9.0</td>\n",
       "      <td>1</td>\n",
       "    </tr>\n",
       "  </tbody>\n",
       "</table>\n",
       "</div>"
      ],
      "text/plain": [
       "   _c0             Names   Age  Total_Purchase  Account_Manager  Years  \\\n",
       "0    0  Cameron Williams  42.0        11066.80                0   7.22   \n",
       "1    1     Kevin Mueller  41.0        11916.22                0   6.50   \n",
       "2    2       Eric Lozano  38.0        12884.75                0   6.67   \n",
       "3    3     Phillip White  42.0         8010.76                0   6.71   \n",
       "4    4    Cynthia Norton  37.0         9191.58                0   5.56   \n",
       "\n",
       "   Num_Sites  Churn  \n",
       "0        8.0      1  \n",
       "1       11.0      1  \n",
       "2       12.0      1  \n",
       "3       10.0      1  \n",
       "4        9.0      1  "
      ]
     },
     "execution_count": 40,
     "metadata": {},
     "output_type": "execute_result"
    }
   ],
   "source": [
    "sdf.head()"
   ]
  },
  {
   "cell_type": "code",
   "execution_count": 41,
   "id": "d20f9f3a-b26f-4eb1-ae62-d598b2046290",
   "metadata": {},
   "outputs": [
    {
     "data": {
      "image/png": "[encoded data removed]",
      "text/plain": [
       "<Figure size 640x480 with 1 Axes>"
      ]
     },
     "metadata": {},
     "output_type": "display_data"
    }
   ],
   "source": [
    "sns.barplot(x=\"Churn\", y=sdf.Churn.index, data=sdf);"
   ]
  },
  {
   "cell_type": "markdown",
   "id": "7f048f03-0764-4866-a9ef-61d21e39e16e",
   "metadata": {},
   "source": [
    "### Büyük Veride Makine Öğrenmesi\n",
    "#### Veri Ön İşleme"
   ]
  },
  {
   "cell_type": "code",
   "execution_count": 43,
   "id": "050f6022-0d6b-4a2f-8da5-60f4ea13b404",
   "metadata": {},
   "outputs": [
    {
     "name": "stdout",
     "output_type": "stream",
     "text": [
      "+---+----------------+----+--------------+---------------+-----+---------+-----+\n",
      "|_c0|           Names| Age|Total_Purchase|Account_Manager|Years|Num_Sites|Churn|\n",
      "+---+----------------+----+--------------+---------------+-----+---------+-----+\n",
      "|  0|Cameron Williams|42.0|       11066.8|              0| 7.22|      8.0|    1|\n",
      "|  1|   Kevin Mueller|41.0|      11916.22|              0|  6.5|     11.0|    1|\n",
      "|  2|     Eric Lozano|38.0|      12884.75|              0| 6.67|     12.0|    1|\n",
      "|  3|   Phillip White|42.0|       8010.76|              0| 6.71|     10.0|    1|\n",
      "|  4|  Cynthia Norton|37.0|       9191.58|              0| 5.56|      9.0|    1|\n",
      "+---+----------------+----+--------------+---------------+-----+---------+-----+\n",
      "only showing top 5 rows\n",
      "\n"
     ]
    }
   ],
   "source": [
    "spark_df.show(5)"
   ]
  },
  {
   "cell_type": "code",
   "execution_count": 47,
   "id": "69de2bba-3914-4ed5-8b6a-8c0c93c5671c",
   "metadata": {},
   "outputs": [],
   "source": [
    "spark_df = spark_df.toDF(*[i.lower() for i in spark_df.columns])"
   ]
  },
  {
   "cell_type": "code",
   "execution_count": 48,
   "id": "f61418c3-21d5-463f-84c6-8fdf0d73f188",
   "metadata": {},
   "outputs": [
    {
     "name": "stdout",
     "output_type": "stream",
     "text": [
      "+---+----------------+----+--------------+---------------+-----+---------+-----+\n",
      "|_c0|           names| age|total_purchase|account_manager|years|num_sites|churn|\n",
      "+---+----------------+----+--------------+---------------+-----+---------+-----+\n",
      "|  0|Cameron Williams|42.0|       11066.8|              0| 7.22|      8.0|    1|\n",
      "|  1|   Kevin Mueller|41.0|      11916.22|              0|  6.5|     11.0|    1|\n",
      "|  2|     Eric Lozano|38.0|      12884.75|              0| 6.67|     12.0|    1|\n",
      "|  3|   Phillip White|42.0|       8010.76|              0| 6.71|     10.0|    1|\n",
      "|  4|  Cynthia Norton|37.0|       9191.58|              0| 5.56|      9.0|    1|\n",
      "+---+----------------+----+--------------+---------------+-----+---------+-----+\n",
      "only showing top 5 rows\n",
      "\n"
     ]
    }
   ],
   "source": [
    "spark_df.show(5)"
   ]
  },
  {
   "cell_type": "code",
   "execution_count": 49,
   "id": "74bdd1f7-21e5-4f9b-87ae-65962e281a9b",
   "metadata": {},
   "outputs": [],
   "source": [
    "spark_df = spark_df.withColumnRenamed(\"_c0\", \"id\")"
   ]
  },
  {
   "cell_type": "code",
   "execution_count": 50,
   "id": "6fb0307e-31c9-45e5-a225-a70e251f295b",
   "metadata": {},
   "outputs": [
    {
     "name": "stdout",
     "output_type": "stream",
     "text": [
      "+---+----------------+----+--------------+---------------+-----+---------+-----+\n",
      "| id|           names| age|total_purchase|account_manager|years|num_sites|churn|\n",
      "+---+----------------+----+--------------+---------------+-----+---------+-----+\n",
      "|  0|Cameron Williams|42.0|       11066.8|              0| 7.22|      8.0|    1|\n",
      "|  1|   Kevin Mueller|41.0|      11916.22|              0|  6.5|     11.0|    1|\n",
      "|  2|     Eric Lozano|38.0|      12884.75|              0| 6.67|     12.0|    1|\n",
      "|  3|   Phillip White|42.0|       8010.76|              0| 6.71|     10.0|    1|\n",
      "|  4|  Cynthia Norton|37.0|       9191.58|              0| 5.56|      9.0|    1|\n",
      "+---+----------------+----+--------------+---------------+-----+---------+-----+\n",
      "only showing top 5 rows\n",
      "\n"
     ]
    }
   ],
   "source": [
    "spark_df.show(5)"
   ]
  },
  {
   "cell_type": "code",
   "execution_count": 56,
   "id": "5cf250c0-b40f-4abe-9492-5bdfd9237bad",
   "metadata": {},
   "outputs": [
    {
     "data": {
      "text/html": [
       "<div>\n",
       "<style scoped>\n",
       "    .dataframe tbody tr th:only-of-type {\n",
       "        vertical-align: middle;\n",
       "    }\n",
       "\n",
       "    .dataframe tbody tr th {\n",
       "        vertical-align: top;\n",
       "    }\n",
       "\n",
       "    .dataframe thead th {\n",
       "        text-align: right;\n",
       "    }\n",
       "</style>\n",
       "<table border=\"1\" class=\"dataframe\">\n",
       "  <thead>\n",
       "    <tr style=\"text-align: right;\">\n",
       "      <th></th>\n",
       "      <th>0</th>\n",
       "      <th>1</th>\n",
       "      <th>2</th>\n",
       "      <th>3</th>\n",
       "      <th>4</th>\n",
       "    </tr>\n",
       "  </thead>\n",
       "  <tbody>\n",
       "    <tr>\n",
       "      <th>summary</th>\n",
       "      <td>count</td>\n",
       "      <td>mean</td>\n",
       "      <td>stddev</td>\n",
       "      <td>min</td>\n",
       "      <td>max</td>\n",
       "    </tr>\n",
       "    <tr>\n",
       "      <th>age</th>\n",
       "      <td>900</td>\n",
       "      <td>41.81666666666667</td>\n",
       "      <td>6.127560416916251</td>\n",
       "      <td>22.0</td>\n",
       "      <td>65.0</td>\n",
       "    </tr>\n",
       "    <tr>\n",
       "      <th>total_purchase</th>\n",
       "      <td>900</td>\n",
       "      <td>10062.82403333334</td>\n",
       "      <td>2408.644531858096</td>\n",
       "      <td>100.0</td>\n",
       "      <td>18026.01</td>\n",
       "    </tr>\n",
       "    <tr>\n",
       "      <th>account_manager</th>\n",
       "      <td>900</td>\n",
       "      <td>0.4811111111111111</td>\n",
       "      <td>0.4999208935073339</td>\n",
       "      <td>0</td>\n",
       "      <td>1</td>\n",
       "    </tr>\n",
       "    <tr>\n",
       "      <th>years</th>\n",
       "      <td>900</td>\n",
       "      <td>5.27315555555555</td>\n",
       "      <td>1.274449013194616</td>\n",
       "      <td>1.0</td>\n",
       "      <td>9.15</td>\n",
       "    </tr>\n",
       "    <tr>\n",
       "      <th>num_sites</th>\n",
       "      <td>900</td>\n",
       "      <td>8.587777777777777</td>\n",
       "      <td>1.7648355920350969</td>\n",
       "      <td>3.0</td>\n",
       "      <td>14.0</td>\n",
       "    </tr>\n",
       "    <tr>\n",
       "      <th>churn</th>\n",
       "      <td>900</td>\n",
       "      <td>0.16666666666666666</td>\n",
       "      <td>0.3728852122772358</td>\n",
       "      <td>0</td>\n",
       "      <td>1</td>\n",
       "    </tr>\n",
       "  </tbody>\n",
       "</table>\n",
       "</div>"
      ],
      "text/plain": [
       "                     0                    1                   2      3  \\\n",
       "summary          count                 mean              stddev    min   \n",
       "age                900    41.81666666666667   6.127560416916251   22.0   \n",
       "total_purchase     900    10062.82403333334   2408.644531858096  100.0   \n",
       "account_manager    900   0.4811111111111111  0.4999208935073339      0   \n",
       "years              900     5.27315555555555   1.274449013194616    1.0   \n",
       "num_sites          900    8.587777777777777  1.7648355920350969    3.0   \n",
       "churn              900  0.16666666666666666  0.3728852122772358      0   \n",
       "\n",
       "                        4  \n",
       "summary               max  \n",
       "age                  65.0  \n",
       "total_purchase   18026.01  \n",
       "account_manager         1  \n",
       "years                9.15  \n",
       "num_sites            14.0  \n",
       "churn                   1  "
      ]
     },
     "execution_count": 56,
     "metadata": {},
     "output_type": "execute_result"
    }
   ],
   "source": [
    "spark_df.select(\"age\",\"total_purchase\",\"account_manager\",\"years\",\"num_sites\",\"churn\").describe().toPandas().T"
   ]
  },
  {
   "cell_type": "code",
   "execution_count": 57,
   "id": "81f734bf-5009-4fe8-a4b2-5eac72f257a3",
   "metadata": {},
   "outputs": [],
   "source": [
    "spark_df = spark_df.dropna()"
   ]
  },
  {
   "cell_type": "code",
   "execution_count": 58,
   "id": "7804b363-55d8-4f0c-ab9d-219b7c98e5e0",
   "metadata": {},
   "outputs": [],
   "source": [
    "spark_df = spark_df.withColumn(\"age_10y_old\", spark_df.age+10)"
   ]
  },
  {
   "cell_type": "code",
   "execution_count": 59,
   "id": "13a5d95a-90ee-4505-9289-7d86ac078090",
   "metadata": {},
   "outputs": [
    {
     "name": "stdout",
     "output_type": "stream",
     "text": [
      "+---+----------------+----+--------------+---------------+-----+---------+-----+-----------+\n",
      "| id|           names| age|total_purchase|account_manager|years|num_sites|churn|age_10y_old|\n",
      "+---+----------------+----+--------------+---------------+-----+---------+-----+-----------+\n",
      "|  0|Cameron Williams|42.0|       11066.8|              0| 7.22|      8.0|    1|       52.0|\n",
      "|  1|   Kevin Mueller|41.0|      11916.22|              0|  6.5|     11.0|    1|       51.0|\n",
      "|  2|     Eric Lozano|38.0|      12884.75|              0| 6.67|     12.0|    1|       48.0|\n",
      "|  3|   Phillip White|42.0|       8010.76|              0| 6.71|     10.0|    1|       52.0|\n",
      "|  4|  Cynthia Norton|37.0|       9191.58|              0| 5.56|      9.0|    1|       47.0|\n",
      "+---+----------------+----+--------------+---------------+-----+---------+-----+-----------+\n",
      "only showing top 5 rows\n",
      "\n"
     ]
    }
   ],
   "source": [
    "spark_df.show(5)"
   ]
  },
  {
   "cell_type": "code",
   "execution_count": 61,
   "id": "787248f7-08ca-4516-a7ae-e65bcc460327",
   "metadata": {},
   "outputs": [],
   "source": [
    "spark_df = spark_df.withColumn(\"label\", spark_df.churn)"
   ]
  },
  {
   "cell_type": "code",
   "execution_count": 62,
   "id": "4f087c9e-cb20-44b1-b22a-441520e31bd5",
   "metadata": {},
   "outputs": [
    {
     "name": "stdout",
     "output_type": "stream",
     "text": [
      "+---+----------------+----+--------------+---------------+-----+---------+-----+-----------+-----+\n",
      "| id|           names| age|total_purchase|account_manager|years|num_sites|churn|age_10y_old|label|\n",
      "+---+----------------+----+--------------+---------------+-----+---------+-----+-----------+-----+\n",
      "|  0|Cameron Williams|42.0|       11066.8|              0| 7.22|      8.0|    1|       52.0|    1|\n",
      "|  1|   Kevin Mueller|41.0|      11916.22|              0|  6.5|     11.0|    1|       51.0|    1|\n",
      "|  2|     Eric Lozano|38.0|      12884.75|              0| 6.67|     12.0|    1|       48.0|    1|\n",
      "|  3|   Phillip White|42.0|       8010.76|              0| 6.71|     10.0|    1|       52.0|    1|\n",
      "|  4|  Cynthia Norton|37.0|       9191.58|              0| 5.56|      9.0|    1|       47.0|    1|\n",
      "+---+----------------+----+--------------+---------------+-----+---------+-----+-----------+-----+\n",
      "only showing top 5 rows\n",
      "\n"
     ]
    }
   ],
   "source": [
    "spark_df.show(5)"
   ]
  },
  {
   "cell_type": "code",
   "execution_count": 63,
   "id": "c3141b01-6abe-417b-9462-4a553f62dc19",
   "metadata": {},
   "outputs": [
    {
     "data": {
      "text/plain": [
       "[('id', 'int'),\n",
       " ('names', 'string'),\n",
       " ('age', 'double'),\n",
       " ('total_purchase', 'double'),\n",
       " ('account_manager', 'int'),\n",
       " ('years', 'double'),\n",
       " ('num_sites', 'double'),\n",
       " ('churn', 'int'),\n",
       " ('age_10y_old', 'double'),\n",
       " ('label', 'int')]"
      ]
     },
     "execution_count": 63,
     "metadata": {},
     "output_type": "execute_result"
    }
   ],
   "source": [
    "spark_df.dtypes"
   ]
  },
  {
   "cell_type": "code",
   "execution_count": 65,
   "id": "dde79f25-2aac-4725-84b6-cdc47df4a883",
   "metadata": {},
   "outputs": [],
   "source": [
    "degiskenler = [\"age\",\"total_purchase\",\"account_manager\",\"years\",\"num_sites\"]"
   ]
  },
  {
   "cell_type": "code",
   "execution_count": 67,
   "id": "b1404257-88d6-4096-860a-218e89649dab",
   "metadata": {},
   "outputs": [],
   "source": [
    "vectorAssembler = VectorAssembler(inputCols=degiskenler, outputCol=\"features\")\n",
    "va_df = vectorAssembler.transform(spark_df)"
   ]
  },
  {
   "cell_type": "code",
   "execution_count": 69,
   "id": "fa6a1901-e85f-44d3-ae91-df41701e2954",
   "metadata": {},
   "outputs": [
    {
     "name": "stdout",
     "output_type": "stream",
     "text": [
      "+---+----------------+----+--------------+---------------+-----+---------+-----+-----------+-----+--------------------+\n",
      "| id|           names| age|total_purchase|account_manager|years|num_sites|churn|age_10y_old|label|            features|\n",
      "+---+----------------+----+--------------+---------------+-----+---------+-----+-----------+-----+--------------------+\n",
      "|  0|Cameron Williams|42.0|       11066.8|              0| 7.22|      8.0|    1|       52.0|    1|[42.0,11066.8,0.0...|\n",
      "|  1|   Kevin Mueller|41.0|      11916.22|              0|  6.5|     11.0|    1|       51.0|    1|[41.0,11916.22,0....|\n",
      "|  2|     Eric Lozano|38.0|      12884.75|              0| 6.67|     12.0|    1|       48.0|    1|[38.0,12884.75,0....|\n",
      "|  3|   Phillip White|42.0|       8010.76|              0| 6.71|     10.0|    1|       52.0|    1|[42.0,8010.76,0.0...|\n",
      "+---+----------------+----+--------------+---------------+-----+---------+-----+-----------+-----+--------------------+\n",
      "only showing top 4 rows\n",
      "\n"
     ]
    }
   ],
   "source": [
    "va_df.show(4)"
   ]
  },
  {
   "cell_type": "code",
   "execution_count": 70,
   "id": "a475a44b-89b4-4fe0-a190-f810af19a04f",
   "metadata": {},
   "outputs": [],
   "source": [
    "final_df = va_df.select([\"features\", \"label\"])"
   ]
  },
  {
   "cell_type": "code",
   "execution_count": 72,
   "id": "f21add14-f905-4fea-b8d2-e992c4c28d8e",
   "metadata": {},
   "outputs": [
    {
     "name": "stdout",
     "output_type": "stream",
     "text": [
      "+--------------------+-----+\n",
      "|            features|label|\n",
      "+--------------------+-----+\n",
      "|[42.0,11066.8,0.0...|    1|\n",
      "|[41.0,11916.22,0....|    1|\n",
      "|[38.0,12884.75,0....|    1|\n",
      "+--------------------+-----+\n",
      "only showing top 3 rows\n",
      "\n"
     ]
    }
   ],
   "source": [
    "final_df.show(3)"
   ]
  },
  {
   "cell_type": "code",
   "execution_count": 74,
   "id": "9a68d4f1-e9d8-49fa-8e27-ddd329417e90",
   "metadata": {},
   "outputs": [],
   "source": [
    "# train-test ayrımı"
   ]
  },
  {
   "cell_type": "code",
   "execution_count": 75,
   "id": "fbb56088-aa4c-47d1-af74-e0fa552566ee",
   "metadata": {},
   "outputs": [],
   "source": [
    "splits = final_df.randomSplit([.7, .3])"
   ]
  },
  {
   "cell_type": "code",
   "execution_count": 78,
   "id": "38cebc7b-a042-4fb0-94b9-0585b71870ad",
   "metadata": {},
   "outputs": [
    {
     "data": {
      "text/plain": [
       "[DataFrame[features: vector, label: int],\n",
       " DataFrame[features: vector, label: int]]"
      ]
     },
     "execution_count": 78,
     "metadata": {},
     "output_type": "execute_result"
    }
   ],
   "source": [
    "splits"
   ]
  },
  {
   "cell_type": "code",
   "execution_count": 79,
   "id": "1c819675-4c8a-4b12-be84-7af04a625bd0",
   "metadata": {},
   "outputs": [],
   "source": [
    "train_df = splits[0]\n",
    "test_df = splits[1]"
   ]
  },
  {
   "cell_type": "markdown",
   "id": "fedbdef2-0bd4-4fb4-9b97-3108485cfbba",
   "metadata": {},
   "source": [
    "#### GBM ile Müşteri Kaybı Sınıflandırma Modeli"
   ]
  },
  {
   "cell_type": "code",
   "execution_count": 86,
   "id": "3add70e0-017a-4ee3-ba41-321929393141",
   "metadata": {},
   "outputs": [],
   "source": [
    "gbm = GBTClassifier(maxIter=10, featuresCol=\"features\", labelCol=\"label\")\n",
    "gbm_model = gbm.fit(train_df)"
   ]
  },
  {
   "cell_type": "code",
   "execution_count": 87,
   "id": "e51c4c92-a1c4-4457-be1d-c52e2e66631c",
   "metadata": {},
   "outputs": [
    {
     "data": {
      "text/html": [
       "\n",
       "        <div>\n",
       "            <p><b>SparkContext</b></p>\n",
       "\n",
       "            <p><a href=\"http://burak:4040\">Spark UI</a></p>\n",
       "\n",
       "            <dl>\n",
       "              <dt>Version</dt>\n",
       "                <dd><code>v3.5.0</code></dd>\n",
       "              <dt>Master</dt>\n",
       "                <dd><code>local</code></dd>\n",
       "              <dt>AppName</dt>\n",
       "                <dd><code>spark_ilk</code></dd>\n",
       "            </dl>\n",
       "        </div>\n",
       "        "
      ],
      "text/plain": [
       "<SparkContext master=local appName=spark_ilk>"
      ]
     },
     "execution_count": 87,
     "metadata": {},
     "output_type": "execute_result"
    }
   ],
   "source": [
    "sc"
   ]
  },
  {
   "cell_type": "code",
   "execution_count": 88,
   "id": "b1721dad-129b-404a-85d0-420f3f753a39",
   "metadata": {},
   "outputs": [],
   "source": [
    "y_pred = gbm_model.transform(test_df)"
   ]
  },
  {
   "cell_type": "code",
   "execution_count": 89,
   "id": "b87455f8-860b-4733-ae3e-92ab68f07076",
   "metadata": {},
   "outputs": [
    {
     "data": {
      "text/plain": [
       "DataFrame[features: vector, label: int, rawPrediction: vector, probability: vector, prediction: double]"
      ]
     },
     "execution_count": 89,
     "metadata": {},
     "output_type": "execute_result"
    }
   ],
   "source": [
    "y_pred"
   ]
  },
  {
   "cell_type": "code",
   "execution_count": 90,
   "id": "f7a524c8-823d-428d-8194-aa7ad4a79afc",
   "metadata": {},
   "outputs": [],
   "source": [
    "ac = y_pred.select(\"label\",\"prediction\")"
   ]
  },
  {
   "cell_type": "code",
   "execution_count": 93,
   "id": "d1b9b609-7aa5-4fb8-8bbc-4fd7017e6ea7",
   "metadata": {},
   "outputs": [
    {
     "data": {
      "text/plain": [
       "0.8297872340425532"
      ]
     },
     "execution_count": 93,
     "metadata": {},
     "output_type": "execute_result"
    }
   ],
   "source": [
    "ac.filter(ac.label == ac.prediction).count() / ac.count() # Test doğruluğu %"
   ]
  },
  {
   "cell_type": "code",
   "execution_count": 94,
   "id": "9b0e059a-cef1-4faf-b7be-0d1e03c9df81",
   "metadata": {},
   "outputs": [],
   "source": [
    "# Model Tuning"
   ]
  },
  {
   "cell_type": "code",
   "execution_count": 97,
   "id": "42ff4316-0079-4236-952e-d1393541a04c",
   "metadata": {},
   "outputs": [],
   "source": [
    "gbm = GBTClassifier(featuresCol=\"features\", labelCol=\"label\")\n",
    "\n",
    "evaluator = BinaryClassificationEvaluator()\n",
    "\n",
    "params = (ParamGridBuilder()\n",
    "          .addGrid(gbm.maxDepth, [2, 4, 6])\n",
    "          .addGrid(gbm.maxBins, [20, 30])\n",
    "          .addGrid(gbm.maxIter, [10, 20])\n",
    "          .build())\n",
    "\n",
    "cv = CrossValidator(estimator=gbm, estimatorParamMaps=params, evaluator=evaluator, numFolds=10)\n"
   ]
  },
  {
   "cell_type": "code",
   "execution_count": 98,
   "id": "f33aadb4-c78a-4660-b585-485f8c8c9b93",
   "metadata": {},
   "outputs": [],
   "source": [
    "cvModel = cv.fit(train_df)"
   ]
  },
  {
   "cell_type": "code",
   "execution_count": 99,
   "id": "6dbc8fcf-be91-4d32-a42b-29b839ad5f84",
   "metadata": {},
   "outputs": [],
   "source": [
    "y_pred = cvModel.transform(test_df)"
   ]
  },
  {
   "cell_type": "code",
   "execution_count": 100,
   "id": "c1c7a5a8-512b-4934-a811-d42e4a2c1020",
   "metadata": {},
   "outputs": [],
   "source": [
    "ac = y_pred.select(\"label\",\"prediction\")"
   ]
  },
  {
   "cell_type": "code",
   "execution_count": 101,
   "id": "9279657a-cb82-447c-b762-95328aeaa90e",
   "metadata": {},
   "outputs": [
    {
     "data": {
      "text/plain": [
       "0.8723404255319149"
      ]
     },
     "execution_count": 101,
     "metadata": {},
     "output_type": "execute_result"
    }
   ],
   "source": [
    "ac.filter(ac.label == ac.prediction).count() / ac.count() # Test doğruluğu %"
   ]
  },
  {
   "cell_type": "code",
   "execution_count": 121,
   "id": "514d5363-b9cf-44ed-98d7-9a0114a9bf43",
   "metadata": {},
   "outputs": [],
   "source": [
    "# Modeli yeni müşteriler üzerinden test edelim"
   ]
  },
  {
   "cell_type": "code",
   "execution_count": 138,
   "id": "6c718f87-cb32-4c7f-82c1-8951f18be87d",
   "metadata": {},
   "outputs": [
    {
     "data": {
      "text/html": [
       "<div>\n",
       "<style scoped>\n",
       "    .dataframe tbody tr th:only-of-type {\n",
       "        vertical-align: middle;\n",
       "    }\n",
       "\n",
       "    .dataframe tbody tr th {\n",
       "        vertical-align: top;\n",
       "    }\n",
       "\n",
       "    .dataframe thead th {\n",
       "        text-align: right;\n",
       "    }\n",
       "</style>\n",
       "<table border=\"1\" class=\"dataframe\">\n",
       "  <thead>\n",
       "    <tr style=\"text-align: right;\">\n",
       "      <th></th>\n",
       "      <th>Names</th>\n",
       "      <th>Age</th>\n",
       "      <th>Total_Purchase</th>\n",
       "      <th>Account_Manager</th>\n",
       "      <th>Years</th>\n",
       "      <th>Num_Sites</th>\n",
       "      <th>Churn</th>\n",
       "    </tr>\n",
       "  </thead>\n",
       "  <tbody>\n",
       "    <tr>\n",
       "      <th>0</th>\n",
       "      <td>Cameron Williams</td>\n",
       "      <td>42.0</td>\n",
       "      <td>11066.80</td>\n",
       "      <td>0</td>\n",
       "      <td>7.22</td>\n",
       "      <td>8.0</td>\n",
       "      <td>1</td>\n",
       "    </tr>\n",
       "    <tr>\n",
       "      <th>1</th>\n",
       "      <td>Kevin Mueller</td>\n",
       "      <td>41.0</td>\n",
       "      <td>11916.22</td>\n",
       "      <td>0</td>\n",
       "      <td>6.50</td>\n",
       "      <td>11.0</td>\n",
       "      <td>1</td>\n",
       "    </tr>\n",
       "    <tr>\n",
       "      <th>2</th>\n",
       "      <td>Eric Lozano</td>\n",
       "      <td>38.0</td>\n",
       "      <td>12884.75</td>\n",
       "      <td>0</td>\n",
       "      <td>6.67</td>\n",
       "      <td>12.0</td>\n",
       "      <td>1</td>\n",
       "    </tr>\n",
       "    <tr>\n",
       "      <th>3</th>\n",
       "      <td>Phillip White</td>\n",
       "      <td>42.0</td>\n",
       "      <td>8010.76</td>\n",
       "      <td>0</td>\n",
       "      <td>6.71</td>\n",
       "      <td>10.0</td>\n",
       "      <td>1</td>\n",
       "    </tr>\n",
       "    <tr>\n",
       "      <th>4</th>\n",
       "      <td>Cynthia Norton</td>\n",
       "      <td>37.0</td>\n",
       "      <td>9191.58</td>\n",
       "      <td>0</td>\n",
       "      <td>5.56</td>\n",
       "      <td>9.0</td>\n",
       "      <td>1</td>\n",
       "    </tr>\n",
       "  </tbody>\n",
       "</table>\n",
       "</div>"
      ],
      "text/plain": [
       "              Names   Age  Total_Purchase  Account_Manager  Years  Num_Sites  \\\n",
       "0  Cameron Williams  42.0        11066.80                0   7.22        8.0   \n",
       "1     Kevin Mueller  41.0        11916.22                0   6.50       11.0   \n",
       "2       Eric Lozano  38.0        12884.75                0   6.67       12.0   \n",
       "3     Phillip White  42.0         8010.76                0   6.71       10.0   \n",
       "4    Cynthia Norton  37.0         9191.58                0   5.56        9.0   \n",
       "\n",
       "   Churn  \n",
       "0      1  \n",
       "1      1  \n",
       "2      1  \n",
       "3      1  \n",
       "4      1  "
      ]
     },
     "execution_count": 138,
     "metadata": {},
     "output_type": "execute_result"
    }
   ],
   "source": [
    "df = pd.read_csv(\"churn.csv\", index_col=0)\n",
    "df.head()"
   ]
  },
  {
   "cell_type": "code",
   "execution_count": 139,
   "id": "a2f40096-7cd1-4d59-b52e-5d944775eace",
   "metadata": {},
   "outputs": [],
   "source": [
    "musteriler = df.iloc[3:500:67,:] # verisetinden birkaç müşteri örneği alıyoruz"
   ]
  },
  {
   "cell_type": "code",
   "execution_count": 140,
   "id": "a2af845a-ab19-4209-8ac4-1d7d57e7eb3d",
   "metadata": {},
   "outputs": [],
   "source": [
    "musteriler.columns = [i.lower() for i in musteriler.columns]"
   ]
  },
  {
   "cell_type": "code",
   "execution_count": 141,
   "id": "c63aa0be-814c-4bc4-9278-42c4be4d8527",
   "metadata": {},
   "outputs": [],
   "source": [
    "musteriler = musteriler.drop(\"churn\", axis=1)"
   ]
  },
  {
   "cell_type": "code",
   "execution_count": 142,
   "id": "a2391343-cdd2-4d43-8f8d-8dd3790c7197",
   "metadata": {},
   "outputs": [
    {
     "name": "stdout",
     "output_type": "stream",
     "text": [
      "+----------------+----+--------------+---------------+-----+---------+\n",
      "|           names| age|total_purchase|account_manager|years|num_sites|\n",
      "+----------------+----+--------------+---------------+-----+---------+\n",
      "|   Phillip White|42.0|       8010.76|              0| 6.71|     10.0|\n",
      "|    Amber Spears|41.0|      13365.66|              1| 8.36|      9.0|\n",
      "|   Jacob Escobar|50.0|      14398.89|              1| 5.54|     12.0|\n",
      "| Lawrence Morton|48.0|       9706.88|              0| 6.45|      8.0|\n",
      "|     Megan Flynn|48.0|      13298.38|              0| 2.99|      8.0|\n",
      "|    Tammy Kelley|38.0|       6638.87|              1| 5.61|      8.0|\n",
      "|     James Evans|42.0|       4492.44|              1| 6.43|      9.0|\n",
      "|Kathryn Petersen|40.0|      12453.72|              1| 4.83|      9.0|\n",
      "+----------------+----+--------------+---------------+-----+---------+\n",
      "\n"
     ]
    }
   ],
   "source": [
    "yeni_sdf = spark.createDataFrame(musteriler)\n",
    "yeni_sdf.show()"
   ]
  },
  {
   "cell_type": "code",
   "execution_count": 130,
   "id": "b3504149-9265-4141-bed5-681bb982e236",
   "metadata": {},
   "outputs": [],
   "source": [
    "musteriler = vectorAssembler.transform(yeni_sdf)"
   ]
  },
  {
   "cell_type": "code",
   "execution_count": 131,
   "id": "ea8bd6ff-4ecd-4c95-a1f7-e6a4d87df085",
   "metadata": {},
   "outputs": [],
   "source": [
    "sonuclar = cvModel.transform(musteriler)"
   ]
  },
  {
   "cell_type": "code",
   "execution_count": 143,
   "id": "60f8d029-e69f-4470-8c48-e8c3d9dda4f9",
   "metadata": {},
   "outputs": [
    {
     "name": "stdout",
     "output_type": "stream",
     "text": [
      "+----------------+----------+\n",
      "|           names|prediction|\n",
      "+----------------+----------+\n",
      "|   Phillip White|       0.0|\n",
      "|    Amber Spears|       0.0|\n",
      "|   Jacob Escobar|       1.0|\n",
      "| Lawrence Morton|       0.0|\n",
      "|     Megan Flynn|       0.0|\n",
      "|    Tammy Kelley|       0.0|\n",
      "|     James Evans|       0.0|\n",
      "|Kathryn Petersen|       0.0|\n",
      "+----------------+----------+\n",
      "\n"
     ]
    }
   ],
   "source": [
    "sonuclar.select(\"names\",\"prediction\").show()"
   ]
  },
  {
   "cell_type": "code",
   "execution_count": null,
   "id": "0b3bb6df-70b8-4351-877d-f40aa24cacec",
   "metadata": {},
   "outputs": [],
   "source": []
  }
 ],
 "metadata": {
  "kernelspec": {
   "display_name": "Python 3 (ipykernel)",
   "language": "python",
   "name": "python3"
  },
  "language_info": {
   "codemirror_mode": {
    "name": "ipython",
    "version": 3
   },
   "file_extension": ".py",
   "mimetype": "text/x-python",
   "name": "python",
   "nbconvert_exporter": "python",
   "pygments_lexer": "ipython3",
   "version": "3.11.6"
  }
 },
 "nbformat": 4,
 "nbformat_minor": 5
}
